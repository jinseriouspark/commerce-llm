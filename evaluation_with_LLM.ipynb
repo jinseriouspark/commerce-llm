{
  "nbformat": 4,
  "nbformat_minor": 0,
  "metadata": {
    "colab": {
      "provenance": [],
      "mount_file_id": "1_ylx36aOrmOzPqbDj3TD5pDQs9CHGYZB",
      "authorship_tag": "ABX9TyNSP8AVpsvxo9K1YluzuPqz",
      "include_colab_link": true
    },
    "kernelspec": {
      "name": "python3",
      "display_name": "Python 3"
    },
    "language_info": {
      "name": "python"
    }
  },
  "cells": [
    {
      "cell_type": "markdown",
      "metadata": {
        "id": "view-in-github",
        "colab_type": "text"
      },
      "source": [
        "<a href=\"https://colab.research.google.com/github/jinseriouspark/commerce-llm/blob/main/evaluation_with_LLM.ipynb\" target=\"_parent\"><img src=\"https://colab.research.google.com/assets/colab-badge.svg\" alt=\"Open In Colab\"/></a>"
      ]
    },
    {
      "cell_type": "markdown",
      "source": [
        "# KeyLLM with OpenAI\n",
        "\n",
        "- 모델 준비하기\n",
        "- prompt 결과물 정리하기"
      ],
      "metadata": {
        "id": "pBfeoMrzJFyw"
      }
    },
    {
      "cell_type": "code",
      "source": [
        "!pip install openai\n",
        "!pip install tiktoken\n",
        "!pip install keybert"
      ],
      "metadata": {
        "colab": {
          "base_uri": "https://localhost:8080/"
        },
        "id": "zCK-yz0OJI2V",
        "outputId": "8ef73592-58b5-470c-be54-b91ba12dc875"
      },
      "execution_count": 4,
      "outputs": [
        {
          "output_type": "stream",
          "name": "stdout",
          "text": [
            "Collecting keybert\n",
            "  Downloading keybert-0.8.4.tar.gz (29 kB)\n",
            "  Preparing metadata (setup.py) ... \u001b[?25l\u001b[?25hdone\n",
            "Collecting sentence-transformers>=0.3.8 (from keybert)\n",
            "  Downloading sentence_transformers-2.6.1-py3-none-any.whl (163 kB)\n",
            "\u001b[2K     \u001b[90m━━━━━━━━━━━━━━━━━━━━━━━━━━━━━━━━━━━━━━━━\u001b[0m \u001b[32m163.3/163.3 kB\u001b[0m \u001b[31m8.3 MB/s\u001b[0m eta \u001b[36m0:00:00\u001b[0m\n",
            "\u001b[?25hRequirement already satisfied: scikit-learn>=0.22.2 in /usr/local/lib/python3.10/dist-packages (from keybert) (1.2.2)\n",
            "Requirement already satisfied: numpy>=1.18.5 in /usr/local/lib/python3.10/dist-packages (from keybert) (1.25.2)\n",
            "Requirement already satisfied: rich>=10.4.0 in /usr/local/lib/python3.10/dist-packages (from keybert) (13.7.1)\n",
            "\u001b[31mERROR: Operation cancelled by user\u001b[0m\u001b[31m\n",
            "\u001b[0m"
          ]
        }
      ]
    },
    {
      "cell_type": "code",
      "source": [
        "# 참고자료 : https://platform.openai.com/docs/tutorials/web-qa-embeddings\n",
        "import tiktoken\n",
        "\n",
        "tokenizer = tiktoken.get_encoding('cl100k_base')\n"
      ],
      "metadata": {
        "id": "q_LMmRXMJHoB"
      },
      "execution_count": 5,
      "outputs": []
    },
    {
      "cell_type": "code",
      "source": [
        "import openai\n",
        "from keybert.llm import OpenAI\n",
        "from keybert import KeyLLM\n",
        "\n",
        "# Create your LLM\n",
        "client = openai.OpenAI(api_key=MY_API_KEY)\n",
        "llm = OpenAI(client)\n",
        "\n",
        "# Load it in KeyLLM\n",
        "kw_model = KeyLLM(llm)\n",
        "\n",
        "# Extract keywords\n",
        "document = \"The website mentions that it only takes a couple of days to deliver but I still have not received mine.\"\n",
        "keywords = kw_model.extract_keywords(document)"
      ],
      "metadata": {
        "colab": {
          "base_uri": "https://localhost:8080/",
          "height": 409
        },
        "id": "s7MTB2urJKs3",
        "outputId": "a7abca2a-4803-4cb8-8fdd-2c5e36601a3b"
      },
      "execution_count": 6,
      "outputs": [
        {
          "output_type": "error",
          "ename": "ModuleNotFoundError",
          "evalue": "No module named 'keybert'",
          "traceback": [
            "\u001b[0;31m---------------------------------------------------------------------------\u001b[0m",
            "\u001b[0;31mModuleNotFoundError\u001b[0m                       Traceback (most recent call last)",
            "\u001b[0;32m<ipython-input-6-93705dfe332e>\u001b[0m in \u001b[0;36m<cell line: 2>\u001b[0;34m()\u001b[0m\n\u001b[1;32m      1\u001b[0m \u001b[0;32mimport\u001b[0m \u001b[0mopenai\u001b[0m\u001b[0;34m\u001b[0m\u001b[0;34m\u001b[0m\u001b[0m\n\u001b[0;32m----> 2\u001b[0;31m \u001b[0;32mfrom\u001b[0m \u001b[0mkeybert\u001b[0m\u001b[0;34m.\u001b[0m\u001b[0mllm\u001b[0m \u001b[0;32mimport\u001b[0m \u001b[0mOpenAI\u001b[0m\u001b[0;34m\u001b[0m\u001b[0;34m\u001b[0m\u001b[0m\n\u001b[0m\u001b[1;32m      3\u001b[0m \u001b[0;32mfrom\u001b[0m \u001b[0mkeybert\u001b[0m \u001b[0;32mimport\u001b[0m \u001b[0mKeyLLM\u001b[0m\u001b[0;34m\u001b[0m\u001b[0;34m\u001b[0m\u001b[0m\n\u001b[1;32m      4\u001b[0m \u001b[0;34m\u001b[0m\u001b[0m\n\u001b[1;32m      5\u001b[0m \u001b[0;31m# Create your LLM\u001b[0m\u001b[0;34m\u001b[0m\u001b[0;34m\u001b[0m\u001b[0m\n",
            "\u001b[0;31mModuleNotFoundError\u001b[0m: No module named 'keybert'",
            "",
            "\u001b[0;31m---------------------------------------------------------------------------\u001b[0;32m\nNOTE: If your import is failing due to a missing package, you can\nmanually install dependencies using either !pip or !apt.\n\nTo view examples of installing some common dependencies, click the\n\"Open Examples\" button below.\n\u001b[0;31m---------------------------------------------------------------------------\u001b[0m\n"
          ],
          "errorDetails": {
            "actions": [
              {
                "action": "open_url",
                "actionText": "Open Examples",
                "url": "/notebooks/snippets/importing_libraries.ipynb"
              }
            ]
          }
        }
      ]
    },
    {
      "cell_type": "code",
      "source": [
        "\n",
        "\n",
        "# create llm\n",
        "with open('/content/drive/MyDrive/commerce-llm/env/openai_apikey.txt', 'r') as f:\n",
        "  openai.api_key = f.readline().strip()"
      ],
      "metadata": {
        "colab": {
          "base_uri": "https://localhost:8080/",
          "height": 205
        },
        "id": "B7yENP_RJKoo",
        "outputId": "6e841067-3562-4676-ada2-2684614cf8ae"
      },
      "execution_count": 7,
      "outputs": [
        {
          "output_type": "error",
          "ename": "FileNotFoundError",
          "evalue": "[Errno 2] No such file or directory: '/content/drive/MyDrive/commerce-llm/env/openai_apikey.txt'",
          "traceback": [
            "\u001b[0;31m---------------------------------------------------------------------------\u001b[0m",
            "\u001b[0;31mFileNotFoundError\u001b[0m                         Traceback (most recent call last)",
            "\u001b[0;32m<ipython-input-7-eb334246d714>\u001b[0m in \u001b[0;36m<cell line: 2>\u001b[0;34m()\u001b[0m\n\u001b[1;32m      1\u001b[0m \u001b[0;31m# create llm\u001b[0m\u001b[0;34m\u001b[0m\u001b[0;34m\u001b[0m\u001b[0m\n\u001b[0;32m----> 2\u001b[0;31m \u001b[0;32mwith\u001b[0m \u001b[0mopen\u001b[0m\u001b[0;34m(\u001b[0m\u001b[0;34m'/content/drive/MyDrive/commerce-llm/env/openai_apikey.txt'\u001b[0m\u001b[0;34m,\u001b[0m \u001b[0;34m'r'\u001b[0m\u001b[0;34m)\u001b[0m \u001b[0;32mas\u001b[0m \u001b[0mf\u001b[0m\u001b[0;34m:\u001b[0m\u001b[0;34m\u001b[0m\u001b[0;34m\u001b[0m\u001b[0m\n\u001b[0m\u001b[1;32m      3\u001b[0m   \u001b[0mopenai\u001b[0m\u001b[0;34m.\u001b[0m\u001b[0mapi_key\u001b[0m \u001b[0;34m=\u001b[0m \u001b[0mf\u001b[0m\u001b[0;34m.\u001b[0m\u001b[0mreadline\u001b[0m\u001b[0;34m(\u001b[0m\u001b[0;34m)\u001b[0m\u001b[0;34m.\u001b[0m\u001b[0mstrip\u001b[0m\u001b[0;34m(\u001b[0m\u001b[0;34m)\u001b[0m\u001b[0;34m\u001b[0m\u001b[0;34m\u001b[0m\u001b[0m\n",
            "\u001b[0;31mFileNotFoundError\u001b[0m: [Errno 2] No such file or directory: '/content/drive/MyDrive/commerce-llm/env/openai_apikey.txt'"
          ]
        }
      ]
    },
    {
      "cell_type": "code",
      "source": [
        "criteria_1_representativeness = \"\"\"\n",
        "Human: You will be given all reviews and the keywords of reviews.\n",
        "Your task is to rate the keywords on criteria.\n",
        "Please make sure you read and understand criteria and steps carefully. Please keep this document open while reviewing, and refer to it as needed.\n",
        "\n",
        "<criteria>\n",
        "Representativeness (1-5) - the extent to which the keywords captures key words across the entirety of the reviews, demonstrating a comprehensive understanding.\n",
        "</criteria>\n",
        "\n",
        "<steps>\n",
        "Step 1. Carefully read the reviews and keywords provided.\n",
        "Step 2. Evaluate how representative the keywords is across the entirety of the reviews, considering coherence.\n",
        "Step 3. Rate the representativeness on a scale of 1 to 5:\n",
        "    1 - Insignificantly Representative: The keywords fails to capture key words from the reviews, lacking a comprehensive understanding of the content.\n",
        "    2 - Barely Representative: The keywords includes only a few relevant keywords, with significant gaps in understanding the reviews.\n",
        "    3 - Moderately Representative: The keywords captures some key words, but misses others, resulting in a partial understanding of the reviews.\n",
        "    4 - Largely Representative: The keywords effectively includes relevant keywords, demonstrating a good understanding of the reviews, although some areas may be lacking.\n",
        "    5 - Fully Representative: The keywords comprehensively captures key words from the reviews, exhibiting a thorough understanding of the content.\n",
        "Step 4. Provide the criteria rating from 1 to 5 based solely on the provided criteria.\n",
        "Step 5. 4. Provide specific feedback on the issues you identified and suggestions for improvement. Be constructive and professional.\n",
        "Step 6. Submit your criteria score and feedback comments to appropriate team member for consideration.\n",
        "</steps>\n",
        "\n",
        "<output_format>\n",
        "The output is provided in json format and has `thoughts`, `criteria_rating`, and `feedback` as keys.\n",
        "For detailed output format description, please check the provided json format.\n",
        "\n",
        "{json_schema}\n",
        "{'thoughs': 'your_thought_',\n",
        "'criteria_rating' : 1,\n",
        "'feedback' : 'your_feedback'\n",
        "}\n",
        "\"\"\"\n"
      ],
      "metadata": {
        "id": "WDoW7jOAJKXI"
      },
      "execution_count": null,
      "outputs": []
    },
    {
      "cell_type": "code",
      "source": [
        "llm = TextGeneration( prompt = criteria_1_representativeness)\n",
        "kw_model = KeyLLM(llm)"
      ],
      "metadata": {
        "id": "iATci-8KJoiE"
      },
      "execution_count": null,
      "outputs": []
    },
    {
      "cell_type": "markdown",
      "source": [
        "# KEYWORD EXTRACTION BY keybert\n",
        "- keybert 란?\n",
        "  - CountVectorizer 를 사용하여 문장 속 keyword, keyphrase  후보를 만든다\n",
        "  - Language model을 사용해서 문장과 키워드를 각각 임베딩 한다 (sentence-transformers 등을 사용)\n",
        "  - 인풋 문장과 후보 키워들 간의 코사인ㅇ 유사도를 계산하고, 가장 큰 유사도부터 '키워드' 라고 지정한다"
      ],
      "metadata": {
        "id": "4v2eZ3d7I_Ix"
      }
    },
    {
      "cell_type": "code",
      "execution_count": null,
      "metadata": {
        "id": "MJIKjFgIIctW"
      },
      "outputs": [],
      "source": [
        "# KeyLLM with KeyBERT + Mistral 7b"
      ]
    },
    {
      "cell_type": "code",
      "source": [
        "%%capture\n",
        "!pip install --upgrade git+https://github.com/UKPLab/sentence-transformers\n",
        "!pip install keybert ctransformers[cuda]\n",
        "!pip install --upgrade git+https://github.com/huggingface/transformers"
      ],
      "metadata": {
        "id": "6vNIDEy0JrJ-"
      },
      "execution_count": null,
      "outputs": []
    }
  ]
}